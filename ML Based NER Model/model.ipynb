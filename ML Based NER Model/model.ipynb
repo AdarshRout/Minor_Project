{
 "cells": [
  {
   "cell_type": "code",
   "execution_count": 1,
   "metadata": {},
   "outputs": [],
   "source": [
    "import spacy\n",
    "import pickle\n",
    "import random"
   ]
  },
  {
   "cell_type": "code",
   "execution_count": 79,
   "metadata": {},
   "outputs": [
    {
     "data": {
      "text/plain": [
       "('Govardhana K Senior Software Engineer  Bengaluru, Karnataka, Karnataka - Email me on Indeed: indeed.com/r/Govardhana-K/ b2de315d95905b68  Total IT experience 5 Years 6 Months Cloud Lending Solutions INC 4 Month • Salesforce Developer Oracle 5 Years 2 Month • Core Java Developer Languages Core Java, Go Lang Oracle PL-SQL programming, Sales Force Developer with APEX.  Designations & Promotions  Willing to relocate: Anywhere  WORK EXPERIENCE  Senior Software Engineer  Cloud Lending Solutions -  Bangalore, Karnataka -  January 2018 to Present  Present  Senior Consultant  Oracle -  Bangalore, Karnataka -  November 2016 to December 2017  Staff Consultant  Oracle -  Bangalore, Karnataka -  January 2014 to October 2016  Associate Consultant  Oracle -  Bangalore, Karnataka -  November 2012 to December 2013  EDUCATION  B.E in Computer Science Engineering  Adithya Institute of Technology -  Tamil Nadu  September 2008 to June 2012  https://www.indeed.com/r/Govardhana-K/b2de315d95905b68?isid=rex-download&ikw=download-top&co=IN https://www.indeed.com/r/Govardhana-K/b2de315d95905b68?isid=rex-download&ikw=download-top&co=IN   SKILLS  APEX. (Less than 1 year), Data Structures (3 years), FLEXCUBE (5 years), Oracle (5 years), Algorithms (3 years)  LINKS  https://www.linkedin.com/in/govardhana-k-61024944/  ADDITIONAL INFORMATION  Technical Proficiency:  Languages: Core Java, Go Lang, Data Structures & Algorithms, Oracle PL-SQL programming, Sales Force with APEX. Tools: RADTool, Jdeveloper, NetBeans, Eclipse, SQL developer, PL/SQL Developer, WinSCP, Putty Web Technologies: JavaScript, XML, HTML, Webservice  Operating Systems: Linux, Windows Version control system SVN & Git-Hub Databases: Oracle Middleware: Web logic, OC4J Product FLEXCUBE: Oracle FLEXCUBE Versions 10.x, 11.x and 12.x  https://www.linkedin.com/in/govardhana-k-61024944/',\n",
       " {'entities': [(1749, 1755, 'Companies worked at'),\n",
       "   (1696, 1702, 'Companies worked at'),\n",
       "   (1417, 1423, 'Companies worked at'),\n",
       "   (1356, 1793, 'Skills'),\n",
       "   (1209, 1215, 'Companies worked at'),\n",
       "   (1136, 1248, 'Skills'),\n",
       "   (928, 932, 'Graduation Year'),\n",
       "   (858, 889, 'College Name'),\n",
       "   (821, 856, 'Degree'),\n",
       "   (787, 791, 'Graduation Year'),\n",
       "   (744, 750, 'Companies worked at'),\n",
       "   (722, 742, 'Designation'),\n",
       "   (658, 664, 'Companies worked at'),\n",
       "   (640, 656, 'Designation'),\n",
       "   (574, 580, 'Companies worked at'),\n",
       "   (555, 573, 'Designation'),\n",
       "   (470, 493, 'Companies worked at'),\n",
       "   (444, 469, 'Designation'),\n",
       "   (308, 314, 'Companies worked at'),\n",
       "   (234, 240, 'Companies worked at'),\n",
       "   (175, 198, 'Companies worked at'),\n",
       "   (93, 137, 'Email Address'),\n",
       "   (39, 48, 'Location'),\n",
       "   (13, 38, 'Designation'),\n",
       "   (0, 12, 'Name')]})"
      ]
     },
     "execution_count": 79,
     "metadata": {},
     "output_type": "execute_result"
    }
   ],
   "source": [
    "train_data = pickle.load(open('train_data.pkl', 'rb'))\n",
    "train_data[0]"
   ]
  },
  {
   "cell_type": "code",
   "execution_count": 80,
   "metadata": {},
   "outputs": [],
   "source": [
    "nlp = spacy.blank('en')\n",
    "\n",
    "def train_model(train_data):\n",
    "    if 'ner' not in nlp.pipe_names:\n",
    "        ner = nlp.create_pipe('ner')\n",
    "        nlp.add_pipe(ner, last = True)\n",
    "    \n",
    "    for _, annotation in train_data:\n",
    "        for ent in annotation['entities']:\n",
    "            ner.add_label(ent[2])\n",
    "            \n",
    "    \n",
    "    other_pipes = [pipe for pipe in nlp.pipe_names if pipe != 'ner']\n",
    "    with nlp.disable_pipes(*other_pipes):  # only train NER\n",
    "        optimizer = nlp.begin_training()\n",
    "        for itn in range(30):\n",
    "            print(\"Statring iteration \" + str(itn))\n",
    "            random.shuffle(train_data)\n",
    "            losses = {}\n",
    "            index = 0\n",
    "            for text, annotations in train_data:\n",
    "                try:\n",
    "                    nlp.update(\n",
    "                        [text],  # batch of texts\n",
    "                        [annotations],  # batch of annotations\n",
    "                        drop=0.2,  # dropout - make it harder to memorise data\n",
    "                        sgd=optimizer,  # callable to update weights\n",
    "                        losses=losses)\n",
    "                except Exception as e:\n",
    "                    pass\n",
    "                \n",
    "            print(losses)"
   ]
  },
  {
   "cell_type": "code",
   "execution_count": 81,
   "metadata": {},
   "outputs": [
    {
     "name": "stdout",
     "output_type": "stream",
     "text": [
      "Statring iteration 0\n",
      "{'ner': 14287.45442762558}\n",
      "Statring iteration 1\n",
      "{'ner': 13714.483789541644}\n",
      "Statring iteration 2\n",
      "{'ner': 7795.883606326162}\n",
      "Statring iteration 3\n",
      "{'ner': 6964.131202462466}\n",
      "Statring iteration 4\n",
      "{'ner': 6347.403074999554}\n",
      "Statring iteration 5\n",
      "{'ner': 6009.301208544742}\n",
      "Statring iteration 6\n",
      "{'ner': 4629.543454781678}\n",
      "Statring iteration 7\n",
      "{'ner': 5319.661802388834}\n",
      "Statring iteration 8\n",
      "{'ner': 4287.331780013571}\n",
      "Statring iteration 9\n",
      "{'ner': 4345.3169026215355}\n",
      "Statring iteration 10\n",
      "{'ner': 4463.647123011391}\n",
      "Statring iteration 11\n",
      "{'ner': 4869.503084199151}\n",
      "Statring iteration 12\n",
      "{'ner': 4273.033632037388}\n",
      "Statring iteration 13\n",
      "{'ner': 3967.671172591124}\n",
      "Statring iteration 14\n",
      "{'ner': 3760.4788185974458}\n",
      "Statring iteration 15\n",
      "{'ner': 2691.437998556512}\n",
      "Statring iteration 16\n",
      "{'ner': 3668.390164723117}\n",
      "Statring iteration 17\n",
      "{'ner': 2789.3081045019285}\n",
      "Statring iteration 18\n",
      "{'ner': 3226.701873230165}\n",
      "Statring iteration 19\n",
      "{'ner': 3346.1940607448814}\n",
      "Statring iteration 20\n",
      "{'ner': 2757.989545249847}\n",
      "Statring iteration 21\n",
      "{'ner': 2534.35146727572}\n",
      "Statring iteration 22\n",
      "{'ner': 3259.930967134486}\n",
      "Statring iteration 23\n",
      "{'ner': 2941.0804654876288}\n",
      "Statring iteration 24\n",
      "{'ner': 2570.0006244810866}\n",
      "Statring iteration 25\n",
      "{'ner': 2024.206650582376}\n",
      "Statring iteration 26\n",
      "{'ner': 2909.8170067036385}\n",
      "Statring iteration 27\n",
      "{'ner': 2934.3784283761797}\n",
      "Statring iteration 28\n",
      "{'ner': 2299.497292235571}\n",
      "Statring iteration 29\n",
      "{'ner': 2680.827538697247}\n"
     ]
    }
   ],
   "source": [
    "train_model(train_data)"
   ]
  },
  {
   "cell_type": "code",
   "execution_count": 82,
   "metadata": {},
   "outputs": [],
   "source": [
    "nlp.to_disk('nlp_model')"
   ]
  },
  {
   "cell_type": "code",
   "execution_count": 2,
   "metadata": {},
   "outputs": [],
   "source": [
    "nlp_model = spacy.load('nlp_model')"
   ]
  },
  {
   "cell_type": "code",
   "execution_count": 84,
   "metadata": {},
   "outputs": [
    {
     "data": {
      "text/plain": [
       "'Shaik Tazuddin Senior Process Executive - STAR India  Bengaluru, Karnataka - Email me on Indeed: indeed.com/r/Shaik-Tazuddin/1366179051f145eb  To establish myself as a sincere and honest employee in a challenging organization by using my attitude and learning, thus enhancing my skills along with the growth of the organization.  WORK EXPERIENCE  Senior Process Executive  STAR India -  Bengaluru, Karnataka -  November 2017 to Present  Senior Process Executive - Cisco Client STAR EMEAR &amp; US: ➢ Creating Dart ID from the requested details and configuring products with appropriate pricing &amp; discounts. ➢ Responsible for managing and analyzing backlog for the European countries with especial attention to France, Spain, United Kingdom, Italy, Sweden, Slovakia, Israel, Germany. ➢ Reviewing quality figures, counts and Q flow monthly to ensure the targets are met. ➢ Making report and C-SAT presentation regarding process for business development. ➢ Immediate action on customer queries and escalations in order to meet quality standards. ➢ To ensure 100% closure to all the customer queries, SLA adherence for self-productivity and quality. ➢ Resolving issue and escalated cases for Europe and US countries. ➢ Giving training for the new folks and support to quality team. ➢ Overlap checking for the deals and AM assignment. ➢ Promoted as SME where the responsibilities are to handle the team in the absence of Manager OR Team Lead and assigning the Work to the folks.  STAR- ANZ: Star ANZ deals with the direct partners of Cisco and the indirect distributors from the Australia and New Zealand, where they require deal ids for their transactions to purchase the products from cisco. These direct partners and the distributors contacts us to create the deal ids with the products, quantity, end user and partners name and the discount. Star ANZ with all these creates the deal ids with the approval of account managers of the cisco of the respected account with the help of the various tools provided by cisco for example- CCW, SFDC, sales force etc. And contacting all the requesters through emails and through chat.  STAR- INDIA: Star India deals with the Direct partners and the Account managers of the Cisco. Deal ids created will be created as per the request from the partners and the Account managers for ordering purpose of the Cisco products and the same will be informed to them through E-mail or Chat or through Phone.  https://www.indeed.com/r/Shaik-Tazuddin/1366179051f145eb?isid=rex-download&ikw=download-top&co=IN   Senior process executive at Infosys bpm limited  Infosys BPM -  Bangalore Rural, Karnataka -  November 2015 to Present  Deal management  -  November 2015 to October 2016  EDUCATION  B.Com in C.A  S.V University -  Tirupati, Andhra Pradesh  2015  Education, A.P  Margadarshi Junior College  2012  SSC  Board Of Secondary Education  2010  SKILLS  HTML (Less than 1 year), MS OFFICE (Less than 1 year), Tally (Less than 1 year)  ADDITIONAL INFORMATION  COMPUTER SKILLS Packages: MS Office, HTML, TALLY  PERSONAL STRENGTHS ➢ Dedication towards work. ➢ Quick learner and self motivated. ➢ Good Communication Skills and Personality. ➢ Positive attitude. ➢ Willing to spend more time.'"
      ]
     },
     "execution_count": 84,
     "metadata": {},
     "output_type": "execute_result"
    }
   ],
   "source": [
    "train_data[5][0]"
   ]
  },
  {
   "cell_type": "code",
   "execution_count": 85,
   "metadata": {},
   "outputs": [
    {
     "name": "stdout",
     "output_type": "stream",
     "text": [
      "NAME                          - Shaik Tazuddin\n",
      "DESIGNATION                   - Senior Process Executive\n",
      "LOCATION                      - Bengaluru\n",
      "EMAIL ADDRESS                 - indeed.com/r/Shaik-Tazuddin/1366179051f145eb\n",
      "DESIGNATION                   - Senior Process Executive\n",
      "LOCATION                      - Bengaluru\n",
      "DEGREE                        - B.Com in C.A\n",
      "COLLEGE NAME                  - S.V University\n",
      "SKILLS                        - HTML (Less than 1 year), MS OFFICE (Less than 1 year), Tally (Less than 1 year)\n",
      "SKILLS                        - Packages: MS Office, HTML, TALLY  PERSONAL STRENGTHS ➢ Dedication towards work. ➢ Quick learner and self motivated. ➢ Good Communication Skills and Personality. ➢ Positive attitude. ➢ Willing to spend more time.\n"
     ]
    }
   ],
   "source": [
    "doc = nlp_model(train_data[5][0])\n",
    "for ent in doc.ents:\n",
    "    print(f'{ent.label_.upper():{30}}- {ent.text}')"
   ]
  },
  {
   "cell_type": "code",
   "execution_count": 3,
   "metadata": {},
   "outputs": [],
   "source": [
    "import sys, fitz"
   ]
  },
  {
   "cell_type": "code",
   "execution_count": null,
   "metadata": {},
   "outputs": [
    {
     "name": "stdout",
     "output_type": "stream",
     "text": [
      "Alice Clark  AI / Machine Learning    Delhi, India Email me on Indeed  •  20+ years of experience in data handling, design, and development  •  Data Warehouse: Data analysis, star/snow flake scema data modelling and design specific to  data warehousing and business intelligence  •  Database: Experience in database designing, scalability, back-up and recovery, writing and  optimizing SQL code and Stored Procedures, creating functions, views, triggers and indexes.  Cloud platform: Worked on Microsoft Azure cloud services like Document DB, SQL Azure,  Stream Analytics, Event hub, Power BI, Web Job, Web App, Power BI, Azure data lake  analytics(U-SQL)  Willing to relocate anywhere    WORK EXPERIENCE  Software Engineer  Microsoft – Bangalore, Karnataka  January 2000 to Present  1. Microsoft Rewards Live dashboards:  Description: - Microsoft rewards is loyalty program that rewards Users for browsing and shopping  online. Microsoft Rewards members can earn points when searching with Bing, browsing with  Microsoft Edge and making purchases at the Xbox Store, the Windows Store and the Microsoft  Store. Plus, user can pick up bonus points for taking daily quizzes and tours on the Microsoft  rewards website. Rewards live dashboards gives a live picture of usage world-wide and by  markets like US, Canada, Australia, new user registration count, top/bottom performing rewards  offers, orders stats and weekly trends of user activities, orders and new user registrations. the  PBI tiles gets refreshed in different frequencies starting from 5 seconds to 30 minutes.  Technology/Tools used    EDUCATION  Indian Institute of Technology – Mumbai  2001    SKILLS  Machine Learning, Natural Language Processing, and Big Data Handling    ADDITIONAL INFORMATION  Professional Skills  • Excellent analytical, problem solving, communication, knowledge transfer and interpersonal  skills with ability to interact with individuals at all the levels  • Quick learner and maintains cordial relationship with project manager and team members and  good performer both in team and independent job environments  • Positive attitude towards superiors &amp; peers  • Supervised junior developers throughout project lifecycle and provided technical assistance  \n"
     ]
    }
   ],
   "source": [
    "fname = 'Alice Clark CV.pdf'\n",
    "doc = fitz.open(fname)\n",
    "text = \"\"\n",
    "for page in doc:\n",
    "    text = text + str(page.get_text())\n",
    "\n",
    "tx = \" \".join(text.split('\\n'))\n",
    "print(tx)"
   ]
  },
  {
   "cell_type": "code",
   "execution_count": 87,
   "metadata": {},
   "outputs": [
    {
     "name": "stdout",
     "output_type": "stream",
     "text": [
      "NAME                          - Alice Clark\n",
      "LOCATION                      - Delhi\n",
      "SKILLS                        - Database: Experience in database designing, scalability, back-up and recovery, writing and  optimizing SQL code and Stored Procedures, creating functions, views, triggers and indexes.\n",
      "SKILLS                        - Cloud platform: Worked on Microsoft Azure cloud services like Document DB, SQL Azure,  Stream Analytics, Event hub, Power BI, Web Job, Web App, Power BI, Azure data lake\n",
      "DESIGNATION                   - Software Engineer\n",
      "COMPANIES WORKED AT           - Microsoft\n",
      "COMPANIES WORKED AT           - Microsoft\n",
      "COMPANIES WORKED AT           - Microsoft\n",
      "COMPANIES WORKED AT           - Microsoft\n",
      "COMPANIES WORKED AT           - Microsoft\n",
      "COMPANIES WORKED AT           - Microsoft\n",
      "COLLEGE NAME                  - Indian Institute of Technology\n",
      "SKILLS                        - Machine Learning, Natural Language Processing, and Big Data Handling\n"
     ]
    }
   ],
   "source": [
    "doc = nlp_model(tx)\n",
    "for ent in doc.ents:\n",
    "    print(f'{ent.label_.upper():{30}}- {ent.text}')"
   ]
  },
  {
   "cell_type": "code",
   "execution_count": 88,
   "metadata": {},
   "outputs": [
    {
     "name": "stdout",
     "output_type": "stream",
     "text": [
      "Michael Smith  BI / Big Data/ Azure  Manchester, UK- Email me on Indeed: indeed.com/r/falicent/140749dace5dc26f    10+ years of Experience in Designing, Development, Administration, Analysis,  Management  inthe  Business  Intelligence  Data  warehousing,  Client  Server  Technologies, Web-based Applications, cloud solutions and Databases.  Data warehouse: Data analysis, star/ snow flake schema data modeling and design  specific todata warehousing and business intelligence environment.  Database: Experience in database designing, scalability, back-up and recovery,  writing andoptimizing SQL code and Stored Procedures, creating functions, views,  triggers and indexes.   Cloud platform: Worked on Microsoft Azure cloud services like Document DB, SQL  Azure, StreamAnalytics, Event hub, Power BI, Web Job, Web App, Power BI, Azure  data lake analytics(U-SQL).  Big Data: Worked Azure data lake store/analytics for big data processing and Azure  data factoryto schedule U-SQL jobs. Designed and developed end to end big data  solution for data insights.     Willing to relocate: Anywhere  WORK EXPERIENCESoftware Engineer  Microsoft - Manchester, UK.  December 2015 to Present  1. Microsoft Rewards Live dashboards:  Description: - Microsoft rewards is loyalty program that rewards Users for  browsing and shopping online. Microsoft Rewards members can earn points when  searching with Bing, browsing with Microsoft Edge and making purchases at the  Xbox Store, the Windows Store and the Microsoft Store. Plus, user can pick up  bonus points for taking daily quizzes and tours on the Microsoft rewards website.  Rewards live dashboards gives a live picture of usage world-wide and by markets  like US, Canada, Australia, new user registration count, top/bottom performing  rewards offers, orders stats and weekly trends of user activities, orders and new  user registrations. the PBI tiles gets refreshed in different frequencies starting  from 5 seconds to 30 minutes.  Technology/Tools used  Event hub, stream analytics and Power BI.  Responsibilities  Created stream analytics jobs to process event hub data  Created Power BI live dashboard to show live usage traffic, weekly trends, cards,  charts to showtop/bottom 10 offers and usage metrics.  2. Microsoft Rewards Data Insights:  Description: - Microsoft rewards is loyalty program that rewards Users for  browsing and shopping online. Microsoft Rewards members can earn points when  searching with Bing, browsing with Microsoft Edge and making purchases at the  Xbox Store, the Windows Store and the Microsoft Store. Plus, user can pick up  bonus points for taking daily quizzes and tours on the Microsoft rewards website.  Rewards data insights is data analytics and reporting platform, processes 20  million users daily activities and redemption across different markets like US,  Canada, Australia.  Technology/Tools used  Cosmos (Microsoft big-data platform), c#, X-flow job monitoring, Power BI.  Responsibilities  Created big data scripts in cosmos  C# data extractors, processors and reducers for data transformation  Power BI dashboards  3. End to end tracking Tool:  Description: - This is real-time Tracking tool to track different business  transactions like order, order response, functional acknowledgement, invoice  flowing inside ICOE. It gives flexibility to customers to track their transactions  and appropriate error information in-case of any failure. Based on resource based  access control the tool gives flexibility to end user to perform different actions  like view transactions, search based on different filter criteria and view and  download actual message payload. End to end tracking tool stitches all the  business transaction like order to cash flow and connects different hops inside  ICOE like gateway, routing server, Processing server. It also connects different  systems like ICOE, partner end point and SAP.  Technology/Tools used  Azure Document db, Azure web job and Web APP, RBAC, Angular JS.  Responsibilities  Document dB stored procedures.  Web job to process event hub data and populate Document db• Web App API.  Stream analytics job to transform data  Power BI reports  4. Biztrack Tracking Tool:  Description: - This is real-time Tracking tool to track different business  transactions like order, order response, functional acknowledgement, invoice  flowing inside ICOE. It gives flexibility to customers to track their transactions  and appropriate error information in-case of any failure. Based on resource based  access control the tool gives flexibility to end user to perform different actions  like view transactions, search based on different filter criteria and view and  download actual message payload.  Technology/Tools used  SQL server 2014, SSIS, .net API, Angular JS.  Responsibilities  ETL solution to transform business transactions data stored in Biztalk tables.  SQL azure tables, stored procedures, User defined functions.  Performance tuning.  Web API enhancements.    EDUCATION  The University of Manchester - UK  2007    SKILLS  problem solving (Less than 1 year), project lifecycle (Less than 1 year), project  manager (Less than 1 year), technical assistance. (Less than 1 year)  ADDITIONAL INFORMATION  Professional Skills  Excellent analytical, problem solving, communication, knowledge transfer and  interpersonalskills with ability to interact with individuals at all the levels  Quick learner and maintains cordial relationship with project manager and team  members andgood performer both in team and independent job environments  Positive attitude towards superiors &amp; peers  Supervised junior developers throughout project lifecycle and provided technical  assistance.  \n"
     ]
    }
   ],
   "source": [
    "fname = 'Smith Resume.pdf'\n",
    "doc = fitz.open(fname)\n",
    "text = \"\"\n",
    "for page in doc:\n",
    "    text = text + str(page.get_text())\n",
    "\n",
    "tx = \" \".join(text.split('\\n'))\n",
    "print(tx)"
   ]
  },
  {
   "cell_type": "code",
   "execution_count": 89,
   "metadata": {},
   "outputs": [
    {
     "name": "stdout",
     "output_type": "stream",
     "text": [
      "NAME                          - Michael Smith\n",
      "DESIGNATION                   - Intelligence  Data  warehousing,  Client\n",
      "COMPANIES WORKED AT           - Microsoft\n",
      "COMPANIES WORKED AT           - Microsoft\n",
      "COMPANIES WORKED AT           - Microsoft\n",
      "COMPANIES WORKED AT           - Microsoft\n",
      "COMPANIES WORKED AT           - Microsoft\n",
      "COMPANIES WORKED AT           - Microsoft\n",
      "COMPANIES WORKED AT           - Microsoft\n",
      "COMPANIES WORKED AT           - Microsoft\n",
      "COMPANIES WORKED AT           - Microsoft\n",
      "COMPANIES WORKED AT           - Microsoft\n",
      "COMPANIES WORKED AT           - Microsoft\n",
      "COMPANIES WORKED AT           - Microsoft\n",
      "COMPANIES WORKED AT           - Microsoft\n",
      "COMPANIES WORKED AT           - Microsoft\n",
      "COMPANIES WORKED AT           - Microsoft\n",
      "COLLEGE NAME                  - The University of Manchester\n",
      "SKILLS                        - problem solving (Less than 1 year), project lifecycle (Less than 1 year), project\n",
      "COLLEGE NAME                  - manager (Less than 1 year), technical assistance. (Less than 1 year)\n",
      "SKILLS                        - Excellent analytical, problem solving, communication, knowledge transfer and  interpersonalskills with ability to interact with individuals at all the levels  Quick learner and maintains cordial relationship with project manager and team  members andgood performer both in team and independent job environments  Positive attitude towards superiors &amp; peers  Supervised junior developers throughout project lifecycle and provided technical\n"
     ]
    }
   ],
   "source": [
    "doc = nlp_model(tx)\n",
    "for ent in doc.ents:\n",
    "    print(f'{ent.label_.upper():{30}}- {ent.text}')"
   ]
  },
  {
   "cell_type": "code",
   "execution_count": 90,
   "metadata": {},
   "outputs": [
    {
     "name": "stdout",
     "output_type": "stream",
     "text": [
      "Swagat Swaroop Patel  +91 7653044233 # swagatpatel03@gmail.com ï LinkedIn § Github Education KIIT Bhubaneswar 2022 - 2026 B.Tech in Computer Science & Engineering 9.12/10 CGPA Delhi Public School Kalinga 2019 – 2021 Intermediate Education Percentage: 84.4% Delhi Public School Kalinga 2017 – 2019 High School Percentage: 88.6% Projects Crop Disease Identification Web Application • Designed and implemented a web-based crop disease detection platform using Flask for the interface and TensorFlow/Keras for CNN-based image analysis. • Enabled farmers to upload leaf images for automated disease identification, providing detailed health feedback and disease-specific treatment guidance in a user-friendly format. Vehicle Cut-in Detection System • Developed a lane detection and cut-in event tracking solution for Driver Assistance Systems under Intel Unnati Industrial Training (2024). • Leveraged YOLO and Haar Cascades to analyze vehicle trajectories, detect lane cut-ins, and visualize results on video streams for enhanced driver safety. Deepfake Detector • Built a MobileNet-based deepfake detection model using TensorFlow/Keras, achieving 94.64% validation accuracy with a loss of 0.1331. • Integrated Grad-CAM visualization, bounding boxes, and real-time image analysis for interpretability and performance tracking. Urban Steps Sneaker Marketplace • Developed a sneaker e-commerce platform with Next.js for high performance, Tailwind CSS for responsive design, and Vercel for seamless deployment. • Featured a catalog with high-quality visuals, user reviews, and planned AWS integration for scalability and advanced analytics. Technical Skills Languages: C++, Python, Java, JavaScript Backend: Node.js, Express.js Frontend: React, TailwindCSS, HTML, CSS Clouds & Databases: AWS, MySQL, MongoDB Operating System: Windows, Linux Developer Tools: Postman, VS Code, GitHub, Git Achievements Research Publication (IEEE Xplore, ICCRDA 2025) Enhancing Biometric Authentication through Score-Level Fusion of Gait and Palm Vein Modalities • Proposed a multimodal biometric authentication system combining gait and palm vein recognition, leveraging Fisher’s Linear Discriminant Analysis (FLDA) and Principal Component Analysis (PCA). • Enhanced recognition accuracy, robustness, and spoof resistance, demonstrating superior performance over traditional biometric methods in secure and sensitive environments. Smart India Hackathon 2023 • Ranked among top 30 teams in Internal Hackathon organized by Government of India. Courses • AWS Academy Cloud Foundations and AWS Academy Cloud Architecture • 100 Days of Code: The Complete Python Pro Bootcamp (Udemy) • Neural Networks and Deep Learning (Coursera) • Android Basics with Compose (Google Developers) \n"
     ]
    }
   ],
   "source": [
    "fname = 'Swagat Swaroop Patel - Resume 10.pdf'\n",
    "doc = fitz.open(fname)\n",
    "text = \"\"\n",
    "for page in doc:\n",
    "    text = text + str(page.get_text())\n",
    "\n",
    "tx = \" \".join(text.split('\\n'))\n",
    "print(tx)"
   ]
  },
  {
   "cell_type": "code",
   "execution_count": 91,
   "metadata": {},
   "outputs": [
    {
     "name": "stdout",
     "output_type": "stream",
     "text": [
      "NAME                          - Swagat Swaroop\n",
      "SKILLS                        - Languages: C++, Python, Java, JavaScript Backend: Node.js, Express.js Frontend: React, TailwindCSS, HTML, CSS Clouds & Databases: AWS, MySQL, MongoDB Operating System: Windows, Linux Developer Tools: Postman, VS Code, GitHub, Git Achievements Research Publication (IEEE Xplore, ICCRDA 2025) Enhancing Biometric Authentication through Score-Level Fusion of Gait and Palm Vein Modalities • Proposed a multimodal biometric authentication system combining gait and palm vein recognition, leveraging Fisher’s Linear Discriminant Analysis (FLDA) and Principal Component Analysis (PCA). • Enhanced recognition accuracy, robustness, and spoof resistance, demonstrating superior performance over traditional biometric methods in secure and sensitive environments. Smart India Hackathon 2023 • Ranked among top 30 teams in Internal Hackathon organized by Government of India. Courses • AWS Academy Cloud Foundations and AWS Academy Cloud Architecture • 100 Days of Code: The Complete Python Pro Bootcamp (Udemy) • Neural Networks and Deep Learning (Coursera) • Android Basics with Compose (Google Developers)\n"
     ]
    }
   ],
   "source": [
    "doc = nlp_model(tx)\n",
    "for ent in doc.ents:\n",
    "    print(f'{ent.label_.upper():{30}}- {ent.text}')"
   ]
  },
  {
   "cell_type": "code",
   "execution_count": 4,
   "metadata": {},
   "outputs": [
    {
     "name": "stdout",
     "output_type": "stream",
     "text": [
      "Sreyash Rout Third Year (B.Tech) Computer Science & Engineering at KIIT, Bhubaneswar Links Github:// Sreyash‐Rout LinkedIn:// Sreyash‐Rout Skills OS Linux, Windows LANGUAGES C/C++, Java, Python, javascript FRAMEWORK HTML/CSS, React, Express, Node.js, Spring Boot, Full Stack DATABASES MySQL, mongodb CLOUDS Amazon Web Serives(AWS) OTHERS Docker, Git, Power BI Desktop, MS Excel, Computer Network Data Structures and Algorithm, Operating System Coursework Data Structures and Algorithm AWS Academy Cloud Foundations AWS Academy Cloud Architecture GUI using Python Education 2022‐PRESENT B.TECH. IN CSE KALINGA INSTITUE OF INDUSTRIAL TECHNOLOGY, BHUBANESWAR CGPA : 9.33/10(Till 4th Sem) 2021 ‐ 2022 CLASS 12 D. A. V. PUBLIC SCHOOL , CSPUR, BHUBANESWAR Percentage: 94.8% 2019 ‐ 2020 CLASS 10 D. A. V. PUBLIC SCHOOL , CSPUR, BHUBANESWAR Percentage: 93.8% Mob.: +91‐7327849638 Email.:sreyash31@gmail.com Experience MAY 2024 ‐ JULY 2024 KPIT SDE Summer Intenship ‐ Deployed the KSIL platform in a cloud environment. Configured and optimized cloud resources for efficient performance and seamless in‐ tegration with existing infrastructure. ‐ Gained hands‐on experience in containerization, learning the end‐ to‐end process of Dockerizing applications. ‐ Developed a vehicle detection system by integrating OpenCV with lidar technology. Processed visual data from OpenCV alongside lidar inputs to accurately detect and classify vehicles, contributing to ad‐ vanced applications in autonomous driving and traffic management. Achievements 2024 Hackanosis : Hackathon conducted by HackerEarth Winner Developed a mental health platform named CalmDorm. 2023 SMART INDIA HACKATHON Qualified Internal hackathon Developed a chatbot for legal queries and an interactive platform for lawyers to connect with clients and manage cases. Responsibilities 2024‐PRESENT GeeksforGeeks Cloud member of GeeksforGeeks, KIIT Chapter. Projects 2024 CalmDorm Developed a comprehensive mental health website using the MERN stack with JWT authentication, featuring a quiz section, personalized calendar, multiplayer gaming via WebSockets, and full CRUD func‐ tionality. Integrated a GenAI chatbot for user queries. Deployed the website on AWS (EC2), configuring VPC, security groups, and Elastic IP, setting up Apache, uploading files, and managing the domain with Route 53. 2024 MYSTRY MESSAGE Built an interactive mystery message platform using the MERN stack with JWT authentication for secure access. Implemented full CRUD operations for dynamic content management, integrated an email API for notifications, and added a real‐time chatbot powered by Gem‐ ini open‐source API to respond to user queries. 2023 COMPANY ANNUAL PERFORMACE REPORT Developed dynamic Power BI dashboards integrating charts and graphs to comprehensively analyze company’s annual performance, highlighting total sales trends and regional profits with interactive visualizations. 2023 REALTIME CHAT APPLICATION Created a multi‐user real‐time chat app with HTML/CSS frontend, Node.js backend, and Socket.IO for seamless interaction. . \n"
     ]
    }
   ],
   "source": [
    "fname = 'Sreyash Rout Resume.pdf'\n",
    "doc = fitz.open(fname)\n",
    "text = \"\"\n",
    "for page in doc:\n",
    "    text = text + str(page.get_text())\n",
    "\n",
    "tx = \" \".join(text.split('\\n'))\n",
    "print(tx)"
   ]
  },
  {
   "cell_type": "code",
   "execution_count": 5,
   "metadata": {},
   "outputs": [
    {
     "name": "stdout",
     "output_type": "stream",
     "text": [
      "NAME                          - Sreyash Rout\n",
      "YEARS OF EXPERIENCE           - Third Year\n",
      "DEGREE                        - B.Tech) Computer Science & Engineering\n"
     ]
    }
   ],
   "source": [
    "doc = nlp_model(tx)\n",
    "for ent in doc.ents:\n",
    "    print(f'{ent.label_.upper():{30}}- {ent.text}')"
   ]
  }
 ],
 "metadata": {
  "kernelspec": {
   "display_name": "myproject-env",
   "language": "python",
   "name": "python3"
  },
  "language_info": {
   "codemirror_mode": {
    "name": "ipython",
    "version": 3
   },
   "file_extension": ".py",
   "mimetype": "text/x-python",
   "name": "python",
   "nbconvert_exporter": "python",
   "pygments_lexer": "ipython3",
   "version": "3.8.0"
  }
 },
 "nbformat": 4,
 "nbformat_minor": 2
}
